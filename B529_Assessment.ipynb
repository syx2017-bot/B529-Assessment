{
 "cells": [
  {
   "cell_type": "markdown",
   "metadata": {},
   "source": [
    "# Bioinformatics Python programming placement assessment"
   ]
  },
  {
   "cell_type": "markdown",
   "metadata": {},
   "source": [
    "---"
   ]
  },
  {
   "cell_type": "markdown",
   "metadata": {},
   "source": [
    "## Purpose"
   ]
  },
  {
   "cell_type": "markdown",
   "metadata": {},
   "source": [
    "The purpose of this assessment is to determine if you already possess the Python programming skill set pre-requirements of **BIOINF 529: Bioinformatic Concepts & Algorithms** and to waive your requirement for **BIOINF 575: Programming Laboratory in Bioinformatics**."
   ]
  },
  {
   "cell_type": "markdown",
   "metadata": {},
   "source": [
    "---"
   ]
  },
  {
   "cell_type": "markdown",
   "metadata": {},
   "source": [
    "## Instructions"
   ]
  },
  {
   "cell_type": "markdown",
   "metadata": {},
   "source": [
    "* *Carefully* read **all** instructions for *each* section before attempting to write any code\n",
    "* <u>Do not alter</u> **any** of the provided source code other than what is requested"
   ]
  },
  {
   "cell_type": "markdown",
   "metadata": {},
   "source": [
    "---"
   ]
  },
  {
   "cell_type": "markdown",
   "metadata": {},
   "source": [
    "## Information"
   ]
  },
  {
   "cell_type": "markdown",
   "metadata": {},
   "source": [
    "### General:"
   ]
  },
  {
   "cell_type": "markdown",
   "metadata": {},
   "source": [
    "---\n",
    "### <font color=\"red\">Warning</font>\n",
    "As we know that there is a strong urge to perform at the edge of your ability in graduate school, we **strongly** urge you to <u>refrain from getting assistance with this assessment</u>, and <u>only submitting work that you know you are currently capable of</u>. "
   ]
  },
  {
   "cell_type": "markdown",
   "metadata": {},
   "source": [
    "This assessment is not used to evaluate you in any other way other than your Python programming abilities. "
   ]
  },
  {
   "cell_type": "markdown",
   "metadata": {},
   "source": [
    "That is, if you turn in work that is *not your own* or you *do not fully understand* and we, consequently, waive the *BIOINF 575: Programming Laboratory in Bioinformatics* requirement, <font color=\"red\">you will likely suffer</font> from a steeper learning curve during *BIOINF 529: Bioinformatic Concepts & Algorithms*."
   ]
  },
  {
   "cell_type": "markdown",
   "metadata": {},
   "source": [
    "---"
   ]
  },
  {
   "cell_type": "markdown",
   "metadata": {},
   "source": [
    "This is only an *assessment* and will not be used for any other form of evaluation other than that stated in the [Purpose](#Purpose) section of this file."
   ]
  },
  {
   "cell_type": "markdown",
   "metadata": {},
   "source": [
    "After your assessment is evaluated, the instructors of *BIOINF 529: Bioinformatic Concepts & Algorithms* will determine if you meet the pre-requirements for the course."
   ]
  },
  {
   "cell_type": "markdown",
   "metadata": {},
   "source": [
    "**Note**: We fully acknowledge that you may (or may not) have prior programming experience. This experience may be in other programming languages (e.g. MATLAB, R, etc) or in the language of instruction: **Python**. However, *BIOINF 529: Bioinformatic Concepts & Algorithms* relies on fundamental *Python* programming concepts not readily used in other languages or regularly covered in self-taught curriculum. \n",
    "\n",
    "Therefore, please know that we are not assessing your ability to program, but rather your ability to program using intermediate/advanced Python concepts."
   ]
  },
  {
   "cell_type": "markdown",
   "metadata": {},
   "source": [
    "# Important Readme:"
   ]
  },
  {
   "cell_type": "markdown",
   "metadata": {},
   "source": [
    "1. You do **not** have to take this assessment\n",
    "    * If you do take this assessment; you have the *opportunity* to waive the *BIOINF 575: Programming Laboratory in Bioinformatics* requirement\n",
    "    * If you do not take this assessment; you will just have to take *BIOINF 575: Programming Laboratory in Bioinformatics* \n",
    "* You do **not** have to pass this assessment should you choose to take it\n",
    "    * If you pass; the *BIOINF 575: Programming Laboratory in Bioinformatics* requirement will be waived\n",
    "    * If you do not pass; you will just have to take *BIOINF 575: Programming Laboratory in Bioinformatics* \n",
    "* This assessment will **not** be stored after the assessment is complete\n",
    "* If you find yourself not readily understanding what is asked of you in this assessment, do **not** worry. \n",
    "    * You **will** be taught these concepts in *BIOINF 575: Programming Laboratory in Bioinformatics* \n",
    "    * You **will** find yourself well-prepared for *BIOINF 529: Bioinformatic Concepts & Algorithms*.\n",
    "* This assessment will **not** be used in any other way to evaluate you as a student or your place in this program"
   ]
  },
  {
   "cell_type": "markdown",
   "metadata": {},
   "source": [
    "### Points of Assessment"
   ]
  },
  {
   "cell_type": "markdown",
   "metadata": {},
   "source": [
    "You will be assessed on your ability to understand and implement the following *Points of Assessment*:\n",
    "\n",
    "|#|Concept|\n",
    "|--|:--|\n",
    "|1| [Jupyter notebooks](#Part-0)|\n",
    "|2| [git](#Part-0)|\n",
    "|3| [I/O operations](#Part-1%3A-I%2FO-and-string-operations)|\n",
    "|4| [String operations](#Part-1%3A-I%2FO-and-string-operations)|\n",
    "|5| [Numpy arrays and simple Python data structures](#Part-2%3A-Numpy%2C-data-structures%2C-%3Ccode%3Erandom%3C%2Fcode%3E%2C-slicing%2C-indexing%2C-and-subsetting)|\n",
    "|6| [Random selection techniques](#Part-2%3A-Numpy%2C-data-structures%2C-%3Ccode%3Erandom%3C%2Fcode%3E%2C-slicing%2C-indexing%2C-and-subsetting)| \n",
    "|7| [Indexing, slicing, and subsetting data](#Part-2%3A-Numpy%2C-data-structures%2C-%3Ccode%3Erandom%3C%2Fcode%3E%2C-slicing%2C-indexing%2C-and-subsetting)|\n",
    "|8| [Object-Oriented Programming](#Part-3%3A-Object-Oriented-Progamming)|\n",
    "|9| Coding by Contract|\n",
    "|10| Iteration methods|\n",
    "|11| Python control structures|"
   ]
  },
  {
   "cell_type": "markdown",
   "metadata": {},
   "source": [
    "---"
   ]
  },
  {
   "cell_type": "markdown",
   "metadata": {},
   "source": [
    "## Administration"
   ]
  },
  {
   "cell_type": "markdown",
   "metadata": {},
   "source": [
    "### Timeline"
   ]
  },
  {
   "cell_type": "markdown",
   "metadata": {},
   "source": [
    "You will have one (1) week to complete the assessment"
   ]
  },
  {
   "cell_type": "markdown",
   "metadata": {},
   "source": [
    "### Submission"
   ]
  },
  {
   "cell_type": "markdown",
   "metadata": {},
   "source": [
    "Please attach the file in an email to **both** Ryan E Mills (remills@umich.edu) and Alan Boyle (apboyle@umich.edu)"
   ]
  },
  {
   "cell_type": "markdown",
   "metadata": {},
   "source": [
    "---"
   ]
  },
  {
   "cell_type": "markdown",
   "metadata": {},
   "source": [
    "# Part 0"
   ]
  },
  {
   "cell_type": "markdown",
   "metadata": {},
   "source": [
    "You may not know it, but you are already on your way to fulfilling one of the [Points of Assessment: *Jupyter Notebooks*](#Points-of-Assessment). Jupyter Notebooks (\\*.ipynb files) are the primary medium of instruction in *BIOINF 529: Bioinformatic Concepts & Algorithms*. Since you were able to view this file, it means you have a basic understanding of using Jupyter Notebooks."
   ]
  },
  {
   "cell_type": "markdown",
   "metadata": {},
   "source": [
    "## Instructions"
   ]
  },
  {
   "cell_type": "markdown",
   "metadata": {},
   "source": [
    "* Use `git` to acquire the data from this [repository](https://github.com/dcmb-courses/bioinf529-assessment-data)\n",
    "* ***move this notebook*** file into the newly acquired repository"
   ]
  },
  {
   "cell_type": "markdown",
   "metadata": {},
   "source": [
    "You will be using this data for [Part 1](#Part-1%3A-I%2FO-and-string-operations) of this assessment"
   ]
  },
  {
   "cell_type": "markdown",
   "metadata": {},
   "source": [
    "---"
   ]
  },
  {
   "cell_type": "markdown",
   "metadata": {},
   "source": [
    "# Part 1: I/O and string operations"
   ]
  },
  {
   "cell_type": "markdown",
   "metadata": {},
   "source": [
    "## Instructions"
   ]
  },
  {
   "cell_type": "markdown",
   "metadata": {},
   "source": [
    "### A. Write the following function\n",
    "0. <u>No `import` statements are allowed in this section</u>\n",
    "1. Write a function called <u>`placement_io`</u> with the following positional arguments:\n",
    "    1. <u>`file`</u>: a string path and filename to data that will be ingested (e.g. '/c/user/me/some_file.txt')\n",
    "    * <u>`delim`</u>: what is the delimiter of the file (e.g. tab, comma, etc)\n",
    "2. The function must open the declared `file` and process it *row-by-row*:\n",
    "    1. Each row must be delimited by `delim` and converted into a `list`\n",
    "    * Check each row if there is a variant:\n",
    "        1. If there is no variant; add a period ('.') to the end of the row\n",
    "        * If there is a variant; create a new string from the reference sequence such that the variant is present in the correct position and add it to the end of the row\n",
    "    * Add the newly modified row into another `list` that contains all the modified rows\n",
    "* The function must <u>`return`</u> the modified rows `list`"
   ]
  },
  {
   "cell_type": "code",
   "execution_count": 1,
   "metadata": {},
   "outputs": [],
   "source": [
    "# Use this cell to write the function described above\n",
    "def placement_to(file,delim):\n",
    "    with open(file,'r') as f:\n",
    "        modified_list=[]\n",
    "        for i in f:\n",
    "            i=i.replace('\\n','')\n",
    "            row=i.split(deli)\n",
    "            if row[-1]=='No_variant':\n",
    "                row.append('.')\n",
    "                modified_list.append(row)\n",
    "            else:\n",
    "                variant_position,variant_base=row[-1].split('_')[1],row[-1].split('_')[2]\n",
    "                start_position=row[0]\n",
    "                position=int(variant_position)-int(start_position)\n",
    "                sequence=row[2]\n",
    "                new_sequence=sequence[:position]+variant_base+sequence[position+1:]\n",
    "                row.append(new_sequence)\n",
    "                modified_list.append(row)\n",
    "    return modified_list"
   ]
  },
  {
   "cell_type": "markdown",
   "metadata": {},
   "source": [
    "### B. Use the function on the data file provided in the git repo"
   ]
  },
  {
   "cell_type": "code",
   "execution_count": 2,
   "metadata": {},
   "outputs": [
    {
     "data": {
      "text/plain": [
       "[['4863', '4883', 'GATATAGCACACAAGTAGAC', 'No_variant', '.'],\n",
       " ['2310',\n",
       "  '2330',\n",
       "  'AAAATTAGTAGATTTCAGAG',\n",
       "  'Variant_2327_T',\n",
       "  'AAAATTAGTAGATTTCATAG'],\n",
       " ['5313', '5333', 'CCATTTTCAGAATTGGGTGT', 'No_variant', '.'],\n",
       " ['6302',\n",
       "  '6322',\n",
       "  'AACTTGATATAATACCAATA',\n",
       "  'Variant_6303_C',\n",
       "  'ACCTTGATATAATACCAATA'],\n",
       " ['7673', '7693', 'TTAACAATTACACAAGCTTA', 'No_variant', '.'],\n",
       " ['2378',\n",
       "  '2398',\n",
       "  'CACATCCCGCAGGGTTAAAA',\n",
       "  'Variant_2390_C',\n",
       "  'CACATCCCGCAGCGTTAAAA'],\n",
       " ['7355', '7375', 'CTATGGGCGCAGCCTCAATG', 'No_variant', '.'],\n",
       " ['2022',\n",
       "  '2042',\n",
       "  'ATTAGTAGGACCTACACCTG',\n",
       "  'Variant_2025_G',\n",
       "  'ATTGGTAGGACCTACACCTG'],\n",
       " ['8537',\n",
       "  '8557',\n",
       "  'GTGGGTTTTCCAGTCACACC',\n",
       "  'Variant_8545_A',\n",
       "  'GTGGGTTTACCAGTCACACC'],\n",
       " ['436',\n",
       "  '456',\n",
       "  'AGTATGGGCAAGCAGGGAGC',\n",
       "  'Variant_454_T',\n",
       "  'AGTATGGGCAAGCAGGGATC']]"
      ]
     },
     "execution_count": 2,
     "metadata": {},
     "output_type": "execute_result"
    }
   ],
   "source": [
    "# Use this cell to write the code that uses the above function on the provided file\n",
    "file='E:/biancheng/test/sample_data.tsv'\n",
    "deli='\\t'\n",
    "placement_to(file,deli)"
   ]
  },
  {
   "cell_type": "markdown",
   "metadata": {},
   "source": [
    "---"
   ]
  },
  {
   "cell_type": "markdown",
   "metadata": {},
   "source": [
    "# Part 2: Numpy, data structures, `random`, slicing, indexing, and subsetting"
   ]
  },
  {
   "cell_type": "markdown",
   "metadata": {},
   "source": [
    "## Instructions"
   ]
  },
  {
   "cell_type": "markdown",
   "metadata": {},
   "source": [
    "### A. Setup your workspace\n",
    "0. The *only* `import` statements allowed in this section are: `numpy`, `random`, and `itertools`\n",
    "* Load in the following libraries:\n",
    "    1. Numpy (aliased as `np`)\n",
    "    * `random` from the standard library\n",
    "    * any *specific* tools needed from the `itertools` library -> Do **not** import `itertools` directly, just the sub-functions needed"
   ]
  },
  {
   "cell_type": "code",
   "execution_count": 3,
   "metadata": {},
   "outputs": [],
   "source": [
    "# Use this cell to complete the directions detailed under 'A. Setup your workspace'\n",
    "import numpy as np\n",
    "import random\n",
    "from itertools import product\n"
   ]
  },
  {
   "cell_type": "markdown",
   "metadata": {},
   "source": [
    "### B. Write the following functions"
   ]
  },
  {
   "cell_type": "markdown",
   "metadata": {},
   "source": [
    "#### a. Numpy array"
   ]
  },
  {
   "cell_type": "markdown",
   "metadata": {},
   "source": [
    "1. Write a function called <u>`placement_numpy`</u> with the following **keyword** arguments:\n",
    "    1. <u>`min`</u>: the minimum number to randomly select from (default: 0)\n",
    "    * <u>`max`</u>: the maximum number to randomly select from (default: 42)\n",
    "    * <u>`n_rows`</u>: the number of rows in the array (default: 3)\n",
    "    * <u>`n_cols`</u>: the number of columns in the array (default: 4)\n",
    "    * <u>`n`</u>: the number of random samples (default: 1000)\n",
    "    * <u>`fn`</u>: the name of a function that will be used to aggregate results (default: `sum`)\n",
    "    * <u>`seed`</u>: allow the user to define a random seed for all operations (default: None)\n",
    "* The function must set the seed declared by <u>`seed`</u> using the Numpy library\n",
    "* The function must use the Numpy library to create a random array of integers ranging from <u>`min`</u> to <u>`max`</u> such that it fills a Numpy array of dimensions (<u>`n_rows`</u>, <u>`n_cols`</u>)\n",
    "* Collect <u>`n`</u> random samples with replacement\n",
    "* Iterate through all the random samples\n",
    "    * Use <u>`fn`</u> to aggregate the results\n",
    "* When all iterations are complete, the function must <u>`return`</u> the aggregate answer"
   ]
  },
  {
   "cell_type": "code",
   "execution_count": 6,
   "metadata": {},
   "outputs": [],
   "source": [
    "# Use this cell to complete the directions detailed under 'a. Numpy array'\n",
    "def placement_numpy(min=0,max=43,n_rows=3,n_cols=4,n=1000,fn=np.sum,seed=None):\n",
    "    np.random.seed(seed)\n",
    "    random_array=np.random.randint(low=min,high=max,size=(n_rows,n_cols))\n",
    "    result=0\n",
    "    for i in random_array:\n",
    "        sample=np.random.choice(i,1000,replace=True)\n",
    "        aggregate=fn(sample)\n",
    "        result+=aggregate\n",
    "    return result\n"
   ]
  },
  {
   "cell_type": "code",
   "execution_count": 7,
   "metadata": {},
   "outputs": [
    {
     "data": {
      "text/plain": [
       "48694"
      ]
     },
     "execution_count": 7,
     "metadata": {},
     "output_type": "execute_result"
    }
   ],
   "source": [
    "# Use this cell to write the code that uses the placement_numpy function\n",
    "placement_numpy(min=5,seed=1)"
   ]
  },
  {
   "cell_type": "markdown",
   "metadata": {},
   "source": [
    "#### b. Python data structure: `list`"
   ]
  },
  {
   "cell_type": "markdown",
   "metadata": {},
   "source": [
    "1. Write a function called <u>`placement_list`</u> with the following **keyword** arguments:\n",
    "    1. <u>`left`</u>: a Python `list` object (default: None)\n",
    "    * <u>`right`</u>: a Python `list` object (default: None)\n",
    "* The function must ensure that both `left` and `right` are the same size or `left` is one (1) item larger than `right`\n",
    "* The function must ensure that both `left` and `right` are larger than, or equal to, two (2) items\n",
    "* Subset `left` by just the <u>odd</u> numbered items within it\n",
    "* Subset `right` by just the <u>even</u> numbered items within it\n",
    "* The function must <u>`return`</u> the Cartesian product of both subsets as a `list`"
   ]
  },
  {
   "cell_type": "code",
   "execution_count": 8,
   "metadata": {},
   "outputs": [],
   "source": [
    "# Use this cell to complete the directions detailed under 'b. Python data structure: list'\n",
    "def placement_list(left=None,right=None):\n",
    "    result_list=[]\n",
    "    seize_right=len(right)\n",
    "    seize_left=len(left)\n",
    "    if seize_right==seize_left or seize_left==seize_right+1:\n",
    "        if seize_right<2 or seize_left<2:\n",
    "            return False\n",
    "    else:\n",
    "        return False\n",
    "    left=[w for w in left if w%2==0]\n",
    "    right=[k for k in right if k%2!=0]\n",
    "    for i,j in product(left,right):\n",
    "        result_list.append(i*j)\n",
    "    return result_list"
   ]
  },
  {
   "cell_type": "code",
   "execution_count": 9,
   "metadata": {},
   "outputs": [
    {
     "data": {
      "text/plain": [
       "False"
      ]
     },
     "execution_count": 9,
     "metadata": {},
     "output_type": "execute_result"
    }
   ],
   "source": [
    "# Use this cell to write the code that uses the placement_list function\n",
    "left=[1,3,2,4]\n",
    "right=[1,2,3]\n",
    "placement_list(left,right)\n",
    "\n",
    "left=[1,4]\n",
    "right=[1,2,3]\n",
    "placement_list(left,right)\n",
    "    "
   ]
  },
  {
   "cell_type": "markdown",
   "metadata": {},
   "source": [
    "#### c. Python data structure: `dict`"
   ]
  },
  {
   "cell_type": "markdown",
   "metadata": {},
   "source": [
    "1. Write a function called <u>`placement_dict`</u> with the following **keyword** arguments:\n",
    "    1. <u>`seq`</u>: a `list` of numbers ranging from one (1) to sixty-four (64) (inclusive) (default: None)\n",
    "    * <u>`codon_key`</u>: a `dict` where each codon is associated with a number (default: None)\n",
    "    * <u>`codon_trans`</u>: a `dict` where each codon is associated with its associated single letter protein designation (default: None)\n",
    "* The function must use the provided code `codon_key` and `codon_trans`\n",
    "* The function must reverse `codon_key` such that the number is the key and the codon is the value\n",
    "* The function must iterate through both dictionaries, creating a dictionary of dictionaries:\n",
    "    1. The outer key is the number of the codon\n",
    "    * The outer value is a dictionary:\n",
    "        1. The inner key is the codon\n",
    "        * The inner value is the codon's protein translation\n",
    "    * If a codon is in `codon_key` and not `codon_trans`, skip it\n",
    "    * If a codon is in `codon_trans` and not `codon_key`, skip it\n",
    "* The function must then process the `seq`:\n",
    "    1. It must generate the nucleotide sequence given a list of numbers\n",
    "    * It must generate the protein translation of the sequence given a list of numbers\n",
    "* The function must `return` a `tuple` with the following items:\n",
    "    1. The first item must be a string representation of the nucleotide sequence translation of `seq`\n",
    "    * The second item must be a string representation of the protein sequence translation of `seq`"
   ]
  },
  {
   "cell_type": "code",
   "execution_count": 10,
   "metadata": {},
   "outputs": [],
   "source": [
    "# This code is for you to use to complete the directions detailed under 'c. Python data structure: dict' \n",
    "nts = 'ACGT'\n",
    "codon_key = {codon: i for i, codon in enumerate((x+y+z for x in nts for y in nts for z in nts), 1)}\n",
    "\n",
    "trans_table = {\n",
    "    'TTT': 'F', 'TTC': 'F', 'TTY': 'F', 'TTA': 'L', 'TTG': 'L', 'TTR': 'L', 'TCT': 'S', 'TCC': 'S',\n",
    "    'TCA': 'S', 'TCG': 'S', 'TCN': 'S', 'TCY': 'S', 'TCR': 'S', 'TAT': 'Y', 'TAC': 'Y', 'TAY': 'Y',\n",
    "    'TAA': 'X', 'TAG': 'X', 'TAR': 'X', 'TGT': 'C', 'TGC': 'C', 'TGY': 'C', 'TGA': 'X', 'TGG': 'W',\n",
    "    'CTT': 'L', 'CTC': 'L', 'CTA': 'L', 'CTG': 'L', 'CTY': 'L', 'CTR': 'L', 'CTN': 'L', 'YTG': 'L',\n",
    "    'YTA': 'L', 'CCT': 'P', 'CCC': 'P', 'CCA': 'P', 'CCG': 'P', 'CCY': 'P', 'CCR': 'P', 'CCN': 'P',\n",
    "    'CAT': 'H', 'CAC': 'H', 'CAY': 'H', 'CAA': 'Q', 'CAG': 'Q', 'CAR': 'Q', 'CGT': 'R', 'CGC': 'R',\n",
    "    'CGA': 'R', 'CGG': 'R', 'CGY': 'R', 'CGR': 'R', 'CGN': 'R', 'ATT': 'I', 'ATC': 'I', 'ATA': 'I',\n",
    "    'ATY': 'I', 'ATG': 'M', 'ACT': 'T', 'ACC': 'T', 'ACA': 'T', 'ACG': 'T', 'ACY': 'T', 'ACR': 'T',\n",
    "    'ACN': 'T', 'AAT': 'N', 'AAC': 'N', 'AAY': 'N', 'AAA': 'K', 'AAG': 'K', 'AAR': 'K', 'AGT': 'S',\n",
    "    'AGC': 'S', 'AGY': 'S', 'AGA': 'R', 'AGG': 'R', 'AGR': 'R', 'GTT': 'V', 'GTC': 'V', 'GTA': 'V',\n",
    "    'GTG': 'V', 'GTY': 'V', 'GTR': 'V', 'GTN': 'V', 'GCT': 'A', 'GCC': 'A', 'GCA': 'A', 'GCG': 'A',\n",
    "    'GCY': 'A', 'GCR': 'A', 'GCN': 'A', 'GAT': 'D', 'GAC': 'D', 'GAY': 'D', 'GAA': 'E', 'GAG': 'E',\n",
    "    'GAR': 'E', 'GGT': 'G', 'GGC': 'G', 'GGA': 'G', 'GGG': 'G', 'GGY': 'G', 'GGR': 'G', 'GGN': 'G'\n",
    "}\n",
    "seq=[]\n",
    "for i in range(1,65):\n",
    "    seq.append(i)"
   ]
  },
  {
   "cell_type": "code",
   "execution_count": 11,
   "metadata": {},
   "outputs": [],
   "source": [
    "# Use this cell to complete the directions detailed under 'c. Python data structure: dict'\n",
    "def placement_dict(seq=None,codon_key=None,condon_trans=None):\n",
    "    reverse_codon = {value:key for key,value in codon_key.items()} \n",
    "    trans_list=list(condon_trans.keys())\n",
    "    trans_list.sort()\n",
    "    key_list=list(codon_key.keys())\n",
    "    codon_key2=codon_key\n",
    "    condon_trans2={}\n",
    "    for i in trans_list:\n",
    "        condon_trans2[i]=condon_trans[i]\n",
    "    for j in trans_list:\n",
    "        if j not in key_list:\n",
    "            condon_trans2.pop(j)\n",
    "    for k in codon_key2:\n",
    "        if k not in trans_list:\n",
    "            codon_key2.pop(k)\n",
    "    nucleotide_protein_dict={}\n",
    "    for m,n in zip(reverse_codon,condon_trans2.items()):\n",
    "        temp_dict={}\n",
    "        n=list(n)\n",
    "        temp_dict[n[0]]=n[1]\n",
    "        nucleotide_protein_dict[m]=temp_dict\n",
    "    result=[]\n",
    "    for x in seq:\n",
    "        result.append(nucleotide_protein_dict[x])\n",
    "    return result"
   ]
  },
  {
   "cell_type": "code",
   "execution_count": 12,
   "metadata": {},
   "outputs": [
    {
     "data": {
      "text/plain": [
       "[{'AAA': 'K'},\n",
       " {'AAC': 'N'},\n",
       " {'AAG': 'K'},\n",
       " {'AAT': 'N'},\n",
       " {'ACA': 'T'},\n",
       " {'ACC': 'T'},\n",
       " {'ACG': 'T'},\n",
       " {'ACT': 'T'},\n",
       " {'AGA': 'R'},\n",
       " {'AGC': 'S'},\n",
       " {'AGG': 'R'},\n",
       " {'AGT': 'S'},\n",
       " {'ATA': 'I'},\n",
       " {'ATC': 'I'},\n",
       " {'ATG': 'M'},\n",
       " {'ATT': 'I'},\n",
       " {'CAA': 'Q'},\n",
       " {'CAC': 'H'},\n",
       " {'CAG': 'Q'},\n",
       " {'CAT': 'H'},\n",
       " {'CCA': 'P'},\n",
       " {'CCC': 'P'},\n",
       " {'CCG': 'P'},\n",
       " {'CCT': 'P'},\n",
       " {'CGA': 'R'},\n",
       " {'CGC': 'R'},\n",
       " {'CGG': 'R'},\n",
       " {'CGT': 'R'},\n",
       " {'CTA': 'L'},\n",
       " {'CTC': 'L'},\n",
       " {'CTG': 'L'},\n",
       " {'CTT': 'L'},\n",
       " {'GAA': 'E'},\n",
       " {'GAC': 'D'},\n",
       " {'GAG': 'E'},\n",
       " {'GAT': 'D'},\n",
       " {'GCA': 'A'},\n",
       " {'GCC': 'A'},\n",
       " {'GCG': 'A'},\n",
       " {'GCT': 'A'},\n",
       " {'GGA': 'G'},\n",
       " {'GGC': 'G'},\n",
       " {'GGG': 'G'},\n",
       " {'GGT': 'G'},\n",
       " {'GTA': 'V'},\n",
       " {'GTC': 'V'},\n",
       " {'GTG': 'V'},\n",
       " {'GTT': 'V'},\n",
       " {'TAA': 'X'},\n",
       " {'TAC': 'Y'},\n",
       " {'TAG': 'X'},\n",
       " {'TAT': 'Y'},\n",
       " {'TCA': 'S'},\n",
       " {'TCC': 'S'},\n",
       " {'TCG': 'S'},\n",
       " {'TCT': 'S'},\n",
       " {'TGA': 'X'},\n",
       " {'TGC': 'C'},\n",
       " {'TGG': 'W'},\n",
       " {'TGT': 'C'},\n",
       " {'TTA': 'L'},\n",
       " {'TTC': 'F'},\n",
       " {'TTG': 'L'},\n",
       " {'TTT': 'F'}]"
      ]
     },
     "execution_count": 12,
     "metadata": {},
     "output_type": "execute_result"
    }
   ],
   "source": [
    "# Use this cell to write the code that uses the placement_dict function\n",
    "placement_dict(seq,codon_key,trans_table)"
   ]
  },
  {
   "cell_type": "markdown",
   "metadata": {},
   "source": [
    "---"
   ]
  },
  {
   "cell_type": "markdown",
   "metadata": {},
   "source": [
    "# Part 3: Object-Oriented Progamming"
   ]
  },
  {
   "cell_type": "markdown",
   "metadata": {},
   "source": [
    "## Instructions"
   ]
  },
  {
   "cell_type": "markdown",
   "metadata": {},
   "source": [
    "A rudimentary `class` has been created for you below called `FASTA`. It represents a canonical-only <u>nucleotide</u> FASTA sequence. As objects are meant to contain and/or group attributes and methods that relate to specific type of object, it is important that you know how read and use these."
   ]
  },
  {
   "cell_type": "markdown",
   "metadata": {},
   "source": [
    "Use the `FASTA class` provided below to complete the following instructions:\n",
    "1. You may not modify any of the pre-existing code. That is, you are allowed to add to, but not take away from it\n",
    "* All class methods below must be added to the functionality of the `FASTA` object.\n",
    "    1. Write a class method called `complement`:\n",
    "        1. This class method takes no arguments\n",
    "        * This class method must `return` the complement sequence of the `seq` attribute contained within the object\n",
    "    * Write a class method called `reverse`:\n",
    "        1. This class method takes no arguments\n",
    "        * This class method must `return` the reverse sequence of the `seq` attribute contained within the object\n",
    "    * Write a class method called `rev_comp`:\n",
    "        1. This class method takes no arguments\n",
    "        * This class method must `return` the reverse complement sequence of the `seq` attribute contained within the object\n",
    "    * Write a class method called `is_complete`:\n",
    "        1. This class method takes the argument `kmer` (default: 3)\n",
    "        * This class method must `return` whether or not the `seq` attribute can be divided into n `kmer`-length kmers such that there is no remainder\n",
    "    * Write a class method called `translate`:\n",
    "        1. This class method takes a `dict` as an argument:\n",
    "            * The keys of the dictionary are codons\n",
    "            * The values of the dictionary are the protein translations\n",
    "        * This class method must translate the `seq` attribute contained within the object into its single-letter protein translation using the `dict` argument for translation:\n",
    "            * Ignore detection of 'Stop' codons\n",
    "            * If a codon is observed in `seq` that is not in `dict`, the class method should translate this as 'X' instead\n",
    "            * Only translate <u>complete</u> codons\n",
    "        * This class method must `return` the translated sequence"
   ]
  },
  {
   "cell_type": "code",
   "execution_count": 14,
   "metadata": {},
   "outputs": [],
   "source": [
    "# Use the FASTA class below to complete the instructions detailed above\n",
    "class FASTA:\n",
    "    \n",
    "    __slots__ = ['_header', '_seq']\n",
    "    \n",
    "    def __init__(self, sequence = None, header = None):\n",
    "        self._header = header\n",
    "        self._seq = sequence\n",
    "    \n",
    "    @property\n",
    "    def header(self):\n",
    "        if self._header is None:\n",
    "            return '>'\n",
    "        else:\n",
    "            return self._header\n",
    "    \n",
    "    @header.setter\n",
    "    def header(self, header):\n",
    "        if not header.startswith('>'):\n",
    "            header = '>' + header\n",
    "        self._header = header\n",
    "    \n",
    "    @property\n",
    "    def seq(self):\n",
    "        return self._seq\n",
    "    \n",
    "    @seq.setter\n",
    "    def seq(self, sequence):\n",
    "        sequence = sequence.upper()\n",
    "        if all(True if letter in 'ACGT' else False for letter in sequence):\n",
    "            self._seq = sequence\n",
    "        else:\n",
    "            raise ValueError('Sequence contains non-canonical nucleotides')\n",
    "    \n",
    "    def __len__(self):\n",
    "        return len(self.seq)\n",
    "    \n",
    "    def __str__(self):\n",
    "        formatted_seq = '\\n'.join([self.seq[i:i+80] for i in range(0,len(g),80)])\n",
    "        return f\"{self.header if self.header else ' '}Sequence Length: {len(self)}\\n{formatted_seq}\"\n",
    "\n",
    "    def __repr__(self):\n",
    "        return f\"FASTA(header='{self.header}', sequence='{self.seq}')\"\n",
    "    \n",
    "    def complement(self):\n",
    "        com_seq=''\n",
    "        seq=self.seq\n",
    "        dict_base={'A':'T','T':'A','G':'C','C':'G'}\n",
    "        for j in seq:\n",
    "            com_seq+=dict_base[j]\n",
    "        return com_seq\n",
    "        \n",
    "    def reverse(self):\n",
    "        return self.seq[::-1]\n",
    "    \n",
    "    def rev_comp(self):\n",
    "        com_seq=''\n",
    "        seq=self.seq\n",
    "        dict_base={'A':'T','T':'A','G':'C','C':'G'}\n",
    "        for j in seq:\n",
    "            com_seq+=dict_base[j]\n",
    "        return com_seq[::-1]\n",
    "    \n",
    "    def is_complete(self,kmer=3):\n",
    "        if len(self.seq)%kmer==0:\n",
    "            self.seq=self.seq\n",
    "        else:\n",
    "            raise ValueError('Sequence is not complete')\n",
    "    \n",
    "    def translate(self,dict=None):\n",
    "        if len(self.seq)%3==0:\n",
    "            self.seq=self.seq\n",
    "        else:\n",
    "            raise ValueError('Sequence is not complete')\n",
    "        trans_seq=''\n",
    "        for k in range(0,len(self.seq),3):\n",
    "            temp_seq=self.seq[k:k+3]\n",
    "            #print(temp_seq)\n",
    "            if dict[temp_seq]!='Stop':\n",
    "                trans_seq+=dict[temp_seq]\n",
    "            elif dict[temp_seq]=='Stop':\n",
    "                continue\n",
    "            elif temp_seq not in dict:\n",
    "                trans_seq+='X'\n",
    "        return trans_seq"
   ]
  },
  {
   "cell_type": "code",
   "execution_count": 15,
   "metadata": {},
   "outputs": [
    {
     "data": {
      "text/plain": [
       "'EN'"
      ]
     },
     "execution_count": 15,
     "metadata": {},
     "output_type": "execute_result"
    }
   ],
   "source": [
    "# Use this cell to implement the FASTA class and show how your newly-written methods work\n",
    "s=FASTA()\n",
    "s.seq='GAGAAT'\n",
    "dict_tr = {'TTT': 'F', 'TTC': 'F', 'TTA': 'L', 'TTG': 'L', 'TCT': 'S', 'TCC': 'S', 'TCA': 'S', 'TCG': 'S', 'TAT': 'Y', 'TAC': 'Y',\n",
    "                 'TAA': 'Stop', 'TAG': 'Stop', 'TGT': 'C', 'TGC': 'C', 'TGA': 'Stop', 'TGG': 'W', 'CTT': 'L', 'CTC': 'L', 'CTA': 'L', 'CTG': 'L',\n",
    "                 'CCT': 'P', 'CCC': 'P', 'CCA': 'P', 'CCG': 'P', 'CAT': 'H', 'CAC': 'H', 'CAA': 'Q', 'CAG': 'Q', 'CGT': 'R', 'CGC': 'R',\n",
    "                 'CGA': 'R', 'CGG': 'R', 'ATT': 'I', 'ATC': 'I', 'ATA': 'I', 'ATG': 'M', 'ACT': 'T', 'ACC': 'T', 'ACA': 'T', 'ACG': 'T',\n",
    "                 'AAT': 'N', 'AAC': 'N', 'AAA': 'K', 'AAG': 'K', 'AGT': 'S', 'AGC': 'S', 'AGA': 'R', 'AGG': 'R', 'GTT': 'V', 'GTC': 'V',\n",
    "                 'GTA': 'V', 'GTG': 'V', 'GCT': 'A', 'GCC': 'A', 'GCA': 'A', 'GCG': 'A', 'GAT': 'D', 'GAC': 'D', 'GAA': 'E', 'GAG': 'E',\n",
    "                 'GGT': 'G', 'GGC': 'G', 'GGA': 'G', 'GGG': 'G'}\n",
    "\n",
    "s.translate(dict_tr)"
   ]
  },
  {
   "cell_type": "code",
   "execution_count": 170,
   "metadata": {},
   "outputs": [],
   "source": []
  },
  {
   "cell_type": "code",
   "execution_count": null,
   "metadata": {},
   "outputs": [],
   "source": []
  },
  {
   "cell_type": "code",
   "execution_count": 47,
   "metadata": {},
   "outputs": [],
   "source": []
  },
  {
   "cell_type": "markdown",
   "metadata": {},
   "source": [
    "---"
   ]
  },
  {
   "cell_type": "markdown",
   "metadata": {},
   "source": [
    "# Assessment Rubric"
   ]
  },
  {
   "cell_type": "markdown",
   "metadata": {},
   "source": [
    "1. [ ] Jupyter notebooks\n",
    "* [ ] git\n",
    "* [ ] I/O operations\n",
    "* [ ] String operations\n",
    "* [ ] Numpy arrays and simple Python data structures\n",
    "* [ ] Random selection techniques\n",
    "* [ ] Indexing, slicing, and subsetting data\n",
    "* [ ] Object-Oriented Programming\n",
    "* [ ] Coding by Contract\n",
    "* [ ] Iteration methods\n",
    "* [ ] Python control structures"
   ]
  }
 ],
 "metadata": {
  "kernelspec": {
   "display_name": "Python 3",
   "language": "python",
   "name": "python3"
  },
  "language_info": {
   "codemirror_mode": {
    "name": "ipython",
    "version": 3
   },
   "file_extension": ".py",
   "mimetype": "text/x-python",
   "name": "python",
   "nbconvert_exporter": "python",
   "pygments_lexer": "ipython3",
   "version": "3.7.1"
  }
 },
 "nbformat": 4,
 "nbformat_minor": 2
}
